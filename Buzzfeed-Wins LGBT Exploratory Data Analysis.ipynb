{
 "cells": [
  {
   "cell_type": "markdown",
   "metadata": {},
   "source": [
    "# Buzzfeed / Wins LGBTQ in America Exploratory Data Analysis\n",
    "Brittany Bennett | June 2019\n",
    "\n"
   ]
  },
  {
   "cell_type": "code",
   "execution_count": 1,
   "metadata": {},
   "outputs": [],
   "source": [
    "# import necessary packages\n",
    "import pyreadstat\n",
    "import pandas as pd\n",
    "import numpy as np\n",
    "import seaborn as sns\n",
    "import matplotlib.pyplot as plt\n",
    "from dfpvizpy.dfpvizpy import dfpSave\n"
   ]
  },
  {
   "cell_type": "code",
   "execution_count": 2,
   "metadata": {},
   "outputs": [],
   "source": [
    "# read in the .sav file\n",
    "df, meta = pyreadstat.read_sav(\"WINS LGBTQ in America Survey - Final_SPSS_060818 (1).sav\")\n"
   ]
  },
  {
   "cell_type": "code",
   "execution_count": 3,
   "metadata": {},
   "outputs": [
    {
     "data": {
      "text/html": [
       "<div>\n",
       "<style scoped>\n",
       "    .dataframe tbody tr th:only-of-type {\n",
       "        vertical-align: middle;\n",
       "    }\n",
       "\n",
       "    .dataframe tbody tr th {\n",
       "        vertical-align: top;\n",
       "    }\n",
       "\n",
       "    .dataframe thead th {\n",
       "        text-align: right;\n",
       "    }\n",
       "</style>\n",
       "<table border=\"1\" class=\"dataframe\">\n",
       "  <thead>\n",
       "    <tr style=\"text-align: right;\">\n",
       "      <th></th>\n",
       "      <th>responseid</th>\n",
       "      <th>respid</th>\n",
       "      <th>status</th>\n",
       "      <th>interview_start</th>\n",
       "      <th>interview_end</th>\n",
       "      <th>surveystatus</th>\n",
       "      <th>pid</th>\n",
       "      <th>psid</th>\n",
       "      <th>loi</th>\n",
       "      <th>qs1</th>\n",
       "      <th>...</th>\n",
       "      <th>qd16</th>\n",
       "      <th>qd17</th>\n",
       "      <th>weight1</th>\n",
       "      <th>VARA8F4010F18414AF49050</th>\n",
       "      <th>VARA8F4012BFF89411488FD</th>\n",
       "      <th>VARA8F4012CE77E42AA88A9</th>\n",
       "      <th>VARA8F4013021324B0A8635</th>\n",
       "      <th>VARA8F4013E88DB4C70B25A</th>\n",
       "      <th>VARA8F401404B0B4884B37B</th>\n",
       "      <th>VARA8F401418C1647C38D94</th>\n",
       "    </tr>\n",
       "  </thead>\n",
       "  <tbody>\n",
       "    <tr>\n",
       "      <th>0</th>\n",
       "      <td>4.0</td>\n",
       "      <td>4.0</td>\n",
       "      <td>complete</td>\n",
       "      <td>2018-05-24</td>\n",
       "      <td>2018-05-24</td>\n",
       "      <td>1.0</td>\n",
       "      <td>1462008235</td>\n",
       "      <td>c-3eTjThveZo88GCLWW--Q**</td>\n",
       "      <td>1460.49</td>\n",
       "      <td>7.0</td>\n",
       "      <td>...</td>\n",
       "      <td>5.0</td>\n",
       "      <td>5.0</td>\n",
       "      <td>1.349406</td>\n",
       "      <td>2.0</td>\n",
       "      <td>1.0</td>\n",
       "      <td>1.0</td>\n",
       "      <td>4.0</td>\n",
       "      <td>3.0</td>\n",
       "      <td>1.0</td>\n",
       "      <td>3.0</td>\n",
       "    </tr>\n",
       "    <tr>\n",
       "      <th>1</th>\n",
       "      <td>7.0</td>\n",
       "      <td>7.0</td>\n",
       "      <td>complete</td>\n",
       "      <td>2018-05-24</td>\n",
       "      <td>2018-05-24</td>\n",
       "      <td>1.0</td>\n",
       "      <td>1453665890</td>\n",
       "      <td>c-3eTjThveawXOCmuOx-PQ**</td>\n",
       "      <td>759.78</td>\n",
       "      <td>8.0</td>\n",
       "      <td>...</td>\n",
       "      <td>5.0</td>\n",
       "      <td>4.0</td>\n",
       "      <td>1.175335</td>\n",
       "      <td>1.0</td>\n",
       "      <td>1.0</td>\n",
       "      <td>2.0</td>\n",
       "      <td>2.0</td>\n",
       "      <td>3.0</td>\n",
       "      <td>1.0</td>\n",
       "      <td>3.0</td>\n",
       "    </tr>\n",
       "    <tr>\n",
       "      <th>2</th>\n",
       "      <td>9.0</td>\n",
       "      <td>9.0</td>\n",
       "      <td>complete</td>\n",
       "      <td>2018-05-24</td>\n",
       "      <td>2018-05-24</td>\n",
       "      <td>1.0</td>\n",
       "      <td>1454242097</td>\n",
       "      <td>c-3eTjThveZxI5BkOsbbuA**</td>\n",
       "      <td>1546.62</td>\n",
       "      <td>8.0</td>\n",
       "      <td>...</td>\n",
       "      <td>5.0</td>\n",
       "      <td>6.0</td>\n",
       "      <td>0.880285</td>\n",
       "      <td>1.0</td>\n",
       "      <td>1.0</td>\n",
       "      <td>3.0</td>\n",
       "      <td>1.0</td>\n",
       "      <td>4.0</td>\n",
       "      <td>1.0</td>\n",
       "      <td>1.0</td>\n",
       "    </tr>\n",
       "    <tr>\n",
       "      <th>3</th>\n",
       "      <td>10.0</td>\n",
       "      <td>10.0</td>\n",
       "      <td>complete</td>\n",
       "      <td>2018-05-24</td>\n",
       "      <td>2018-05-24</td>\n",
       "      <td>1.0</td>\n",
       "      <td>1412734485</td>\n",
       "      <td>c-3eTjThveatmDPdiuBbRg**</td>\n",
       "      <td>1464.15</td>\n",
       "      <td>7.0</td>\n",
       "      <td>...</td>\n",
       "      <td>5.0</td>\n",
       "      <td>1.0</td>\n",
       "      <td>1.306463</td>\n",
       "      <td>2.0</td>\n",
       "      <td>1.0</td>\n",
       "      <td>1.0</td>\n",
       "      <td>2.0</td>\n",
       "      <td>NaN</td>\n",
       "      <td>2.0</td>\n",
       "      <td>1.0</td>\n",
       "    </tr>\n",
       "    <tr>\n",
       "      <th>4</th>\n",
       "      <td>11.0</td>\n",
       "      <td>11.0</td>\n",
       "      <td>complete</td>\n",
       "      <td>2018-05-24</td>\n",
       "      <td>2018-05-24</td>\n",
       "      <td>1.0</td>\n",
       "      <td>1458793597</td>\n",
       "      <td>c-3eTjThveZvKIihjUEdUg**</td>\n",
       "      <td>1110.68</td>\n",
       "      <td>8.0</td>\n",
       "      <td>...</td>\n",
       "      <td>4.0</td>\n",
       "      <td>3.0</td>\n",
       "      <td>1.044140</td>\n",
       "      <td>2.0</td>\n",
       "      <td>2.0</td>\n",
       "      <td>4.0</td>\n",
       "      <td>5.0</td>\n",
       "      <td>NaN</td>\n",
       "      <td>6.0</td>\n",
       "      <td>1.0</td>\n",
       "    </tr>\n",
       "  </tbody>\n",
       "</table>\n",
       "<p>5 rows × 404 columns</p>\n",
       "</div>"
      ],
      "text/plain": [
       "   responseid  respid    status interview_start interview_end  surveystatus  \\\n",
       "0         4.0     4.0  complete      2018-05-24    2018-05-24           1.0   \n",
       "1         7.0     7.0  complete      2018-05-24    2018-05-24           1.0   \n",
       "2         9.0     9.0  complete      2018-05-24    2018-05-24           1.0   \n",
       "3        10.0    10.0  complete      2018-05-24    2018-05-24           1.0   \n",
       "4        11.0    11.0  complete      2018-05-24    2018-05-24           1.0   \n",
       "\n",
       "          pid                      psid      loi  qs1  \\\n",
       "0  1462008235  c-3eTjThveZo88GCLWW--Q**  1460.49  7.0   \n",
       "1  1453665890  c-3eTjThveawXOCmuOx-PQ**   759.78  8.0   \n",
       "2  1454242097  c-3eTjThveZxI5BkOsbbuA**  1546.62  8.0   \n",
       "3  1412734485  c-3eTjThveatmDPdiuBbRg**  1464.15  7.0   \n",
       "4  1458793597  c-3eTjThveZvKIihjUEdUg**  1110.68  8.0   \n",
       "\n",
       "            ...             qd16  qd17   weight1 VARA8F4010F18414AF49050  \\\n",
       "0           ...              5.0   5.0  1.349406                     2.0   \n",
       "1           ...              5.0   4.0  1.175335                     1.0   \n",
       "2           ...              5.0   6.0  0.880285                     1.0   \n",
       "3           ...              5.0   1.0  1.306463                     2.0   \n",
       "4           ...              4.0   3.0  1.044140                     2.0   \n",
       "\n",
       "   VARA8F4012BFF89411488FD  VARA8F4012CE77E42AA88A9  VARA8F4013021324B0A8635  \\\n",
       "0                      1.0                      1.0                      4.0   \n",
       "1                      1.0                      2.0                      2.0   \n",
       "2                      1.0                      3.0                      1.0   \n",
       "3                      1.0                      1.0                      2.0   \n",
       "4                      2.0                      4.0                      5.0   \n",
       "\n",
       "   VARA8F4013E88DB4C70B25A VARA8F401404B0B4884B37B  VARA8F401418C1647C38D94  \n",
       "0                      3.0                     1.0                      3.0  \n",
       "1                      3.0                     1.0                      3.0  \n",
       "2                      4.0                     1.0                      1.0  \n",
       "3                      NaN                     2.0                      1.0  \n",
       "4                      NaN                     6.0                      1.0  \n",
       "\n",
       "[5 rows x 404 columns]"
      ]
     },
     "execution_count": 3,
     "metadata": {},
     "output_type": "execute_result"
    }
   ],
   "source": [
    "# let's take a look at what we're working with\n",
    "df.head()"
   ]
  },
  {
   "cell_type": "markdown",
   "metadata": {},
   "source": [
    "## Representation in the survey\n",
    "How many bi, lesbian, and gay people responded to the survey?"
   ]
  },
  {
   "cell_type": "code",
   "execution_count": 4,
   "metadata": {},
   "outputs": [],
   "source": [
    "# select the columns that cover: \n",
    "# 'Code Audience - Transgender',\n",
    "# 'Code Audience - Gay Men',\n",
    "# 'Code Audience - Lesbian Women',\n",
    "# 'Code Audience - Bisexual All Genders',\n",
    "# 'Code Audience - Queer, Non-binary',\n",
    "# 'Code Audience - Straight Cis',\n",
    "# 'Code Audience - Prefer not to answer',\n",
    "# 'Code Audience - Would not satisfy Code 1-5',\n",
    "    \n",
    "identity_answers = [22,23,24,25,26,27,28,29]"
   ]
  },
  {
   "cell_type": "code",
   "execution_count": 5,
   "metadata": {},
   "outputs": [],
   "source": [
    "# The \n",
    "identity_matrix = df.iloc[:,identity_answers]\n",
    "identity_matrix.columns = [\"Transgender\", \"Gay\", \"Lesbian\",\"Bisexual\", \"Queer\", \"Striaght Cis\", \"Prefer not to answer\", \"N/A\"]\n"
   ]
  },
  {
   "cell_type": "code",
   "execution_count": 6,
   "metadata": {},
   "outputs": [
    {
     "data": {
      "text/html": [
       "<div>\n",
       "<style scoped>\n",
       "    .dataframe tbody tr th:only-of-type {\n",
       "        vertical-align: middle;\n",
       "    }\n",
       "\n",
       "    .dataframe tbody tr th {\n",
       "        vertical-align: top;\n",
       "    }\n",
       "\n",
       "    .dataframe thead th {\n",
       "        text-align: right;\n",
       "    }\n",
       "</style>\n",
       "<table border=\"1\" class=\"dataframe\">\n",
       "  <thead>\n",
       "    <tr style=\"text-align: right;\">\n",
       "      <th></th>\n",
       "      <th>identity</th>\n",
       "      <th>number</th>\n",
       "    </tr>\n",
       "  </thead>\n",
       "  <tbody>\n",
       "    <tr>\n",
       "      <th>0</th>\n",
       "      <td>Transgender</td>\n",
       "      <td>51.0</td>\n",
       "    </tr>\n",
       "    <tr>\n",
       "      <th>1</th>\n",
       "      <td>Gay</td>\n",
       "      <td>267.0</td>\n",
       "    </tr>\n",
       "    <tr>\n",
       "      <th>2</th>\n",
       "      <td>Lesbian</td>\n",
       "      <td>132.0</td>\n",
       "    </tr>\n",
       "    <tr>\n",
       "      <th>3</th>\n",
       "      <td>Bisexual</td>\n",
       "      <td>400.0</td>\n",
       "    </tr>\n",
       "    <tr>\n",
       "      <th>4</th>\n",
       "      <td>Queer</td>\n",
       "      <td>73.0</td>\n",
       "    </tr>\n",
       "    <tr>\n",
       "      <th>5</th>\n",
       "      <td>Striaght Cis</td>\n",
       "      <td>0.0</td>\n",
       "    </tr>\n",
       "    <tr>\n",
       "      <th>6</th>\n",
       "      <td>Prefer not to answer</td>\n",
       "      <td>0.0</td>\n",
       "    </tr>\n",
       "    <tr>\n",
       "      <th>7</th>\n",
       "      <td>N/A</td>\n",
       "      <td>0.0</td>\n",
       "    </tr>\n",
       "  </tbody>\n",
       "</table>\n",
       "</div>"
      ],
      "text/plain": [
       "               identity  number\n",
       "0           Transgender    51.0\n",
       "1                   Gay   267.0\n",
       "2               Lesbian   132.0\n",
       "3              Bisexual   400.0\n",
       "4                 Queer    73.0\n",
       "5          Striaght Cis     0.0\n",
       "6  Prefer not to answer     0.0\n",
       "7                   N/A     0.0"
      ]
     },
     "execution_count": 6,
     "metadata": {},
     "output_type": "execute_result"
    }
   ],
   "source": [
    "identity_matrix = identity_matrix.sum().reset_index()\n",
    "identity_matrix.columns = [\"identity\", \"number\"]\n",
    "identity_matrix"
   ]
  },
  {
   "cell_type": "code",
   "execution_count": 7,
   "metadata": {},
   "outputs": [
    {
     "data": {
      "text/plain": [
       "<matplotlib.axes._subplots.AxesSubplot at 0x1d2d84f4b70>"
      ]
     },
     "execution_count": 7,
     "metadata": {},
     "output_type": "execute_result"
    },
    {
     "data": {
      "image/png": "[encoded data removed]",
      "text/plain": [
       "<Figure size 1080x432 with 1 Axes>"
      ]
     },
     "metadata": {},
     "output_type": "display_data"
    }
   ],
   "source": [
    "large_dims = (15, 6)\n",
    "fig, ax = plt.subplots(figsize=large_dims)\n",
    "sns.barplot(x = identity_matrix.identity, y = identity_matrix.number)"
   ]
  },
  {
   "cell_type": "code",
   "execution_count": 8,
   "metadata": {},
   "outputs": [
    {
     "data": {
      "text/plain": [
       "<function dfpvizpy.dfpvizpy.dfpSave(fname, g, fac=3.0, despineX=False, despineY=False, logo=True, note=None, notePad=20)>"
      ]
     },
     "execution_count": 8,
     "metadata": {},
     "output_type": "execute_result"
    }
   ],
   "source": [
    "dfpSave"
   ]
  }
 ],
 "metadata": {
  "kernelspec": {
   "display_name": "Python 3",
   "language": "python",
   "name": "python3"
  },
  "language_info": {
   "codemirror_mode": {
    "name": "ipython",
    "version": 3
   },
   "file_extension": ".py",
   "mimetype": "text/x-python",
   "name": "python",
   "nbconvert_exporter": "python",
   "pygments_lexer": "ipython3",
   "version": "3.6.5"
  }
 },
 "nbformat": 4,
 "nbformat_minor": 2
}
